{
 "cells": [
  {
   "cell_type": "code",
   "execution_count": 1,
   "metadata": {},
   "outputs": [],
   "source": [
    "import torch\n",
    "import torch.nn as nn\n",
    "import torch.optim as optim\n",
    "from torch.utils.data import DataLoader, TensorDataset\n",
    "import numpy as np"
   ]
  },
  {
   "cell_type": "code",
   "execution_count": null,
   "metadata": {},
   "outputs": [],
   "source": [
    "# Simulated data parameters\n",
    "n_samples = 1000\n",
    "n_features_client1 = 10  # e.g., demographic + vitals\n",
    "n_features_client2 = 15  #oe.g., lab tests\n",
    "\n",
    "# Simulate input data and labels\n",
    "x1 = torch.randn(n_samples, n_features_client1)  # Client 1 input\n",
    "x2 = torch.randn(n_samples, n_features_client2)  # Client 2 input\n",
    "y = torch.randint(0, 2, (n_samples, 1)).float()   # Binary labels\n",
    "\n",
    "# Dataset and DataLoader\n",
    "batch_size = 64\n",
    "dataset = TensorDataset(x1, x2, y)\n",
    "dataloader = DataLoader(dataset, batch_size=batch_size, shuffle=True)\n"
   ]
  },
  {
   "cell_type": "code",
   "execution_count": null,
   "metadata": {},
   "outputs": [],
   "source": [
    "# Client 1 MLP\n",
    "class Client1Model(nn.Module):\n",
    "    def __init__(self):\n",
    "        super(Client1Model, self).__init__()\n",
    "        self.model = nn.Sequential(\n",
    "            nn.Linear(n_features_client1, 32),\n",
    "            nn.ReLU(),\n",
    "            nn.Dropout(0.3),\n",
    "            nn.Linear(32, 16),\n",
    "            nn.ReLU()\n",
    "        )\n",
    "\n",
    "    def forward(self, x):\n",
    "        return self.model(x)\n",
    "\n",
    "# Client 2 MLP\n",
    "class Client2Model(nn.Module):\n",
    "    def __init__(self):\n",
    "        super(Client2Model, self).__init__()\n",
    "        self.model = nn.Sequential(\n",
    "            nn.Linear(n_features_client2, 32),\n",
    "            nn.ReLU(),\n",
    "            nn.Dropout(0.3),\n",
    "            nn.Linear(32, 16),\n",
    "            nn.ReLU()\n",
    "        )\n",
    "\n",
    "    def forward(self, x):\n",
    "        return self.model(x)\n"
   ]
  },
  {
   "cell_type": "code",
   "execution_count": null,
   "metadata": {},
   "outputs": [],
   "source": [
    "# Server MLP\n",
    "class ServerModel(nn.Module):\n",
    "    def __init__(self):\n",
    "        super(ServerModel, self).__init__()\n",
    "        self.model = nn.Sequential(\n",
    "            nn.Linear(32, 32),  # 16 + 16 from both clients\n",
    "            nn.ReLU(),\n",
    "            nn.Dropout(0.3),\n",
    "            nn.Linear(32, 16),\n",
    "            nn.ReLU(),\n",
    "            nn.Linear(16, 1),\n",
    "            nn.Sigmoid()\n",
    "        )\n",
    "\n",
    "    def forward(self, x):\n",
    "        return self.model(x)"
   ]
  },
  {
   "cell_type": "code",
   "execution_count": null,
   "metadata": {},
   "outputs": [],
   "source": [
    "# Initialize models\n",
    "client1 = Client1Model()\n",
    "client2 = Client2Model()\n",
    "server = ServerModel()\n",
    "\n",
    "# Optimizer and loss\n",
    "params = list(client1.parameters()) + list(client2.parameters()) + list(server.parameters())\n",
    "optimizer = optim.Adam(params, lr=0.001)\n",
    "criterion = nn.BCELoss()\n"
   ]
  },
  {
   "cell_type": "code",
   "execution_count": null,
   "metadata": {},
   "outputs": [],
   "source": [
    "# Training loop\n",
    "epochs = 20\n",
    "for epoch in range(epochs):\n",
    "    running_loss = 0.0\n",
    "    for batch_x1, batch_x2, batch_y in dataloader:\n",
    "        # Forward pass\n",
    "        z1 = client1(batch_x1)\n",
    "        z2 = client2(batch_x2)\n",
    "        z = torch.cat((z1, z2), dim=1)\n",
    "        y_pred = server(z)\n",
    "\n",
    "        # Loss computation\n",
    "        loss = criterion(y_pred, batch_y)\n",
    "\n",
    "        # Backward pass\n",
    "        optimizer.zero_grad()\n",
    "        loss.backward()\n",
    "        optimizer.step()\n",
    "\n",
    "        running_loss += loss.item() * batch_x1.size(0)\n",
    "\n",
    "    epoch_loss = running_loss / len(dataloader.dataset)\n",
    "    print(f\"Epoch {epoch+1}/{epochs}, Loss: {epoch_loss:.4f}\")"
   ]
  }
 ],
 "metadata": {
  "kernelspec": {
   "display_name": "flenv",
   "language": "python",
   "name": "python3"
  },
  "language_info": {
   "codemirror_mode": {
    "name": "ipython",
    "version": 3
   },
   "file_extension": ".py",
   "mimetype": "text/x-python",
   "name": "python",
   "nbconvert_exporter": "python",
   "pygments_lexer": "ipython3",
   "version": "3.12.3"
  }
 },
 "nbformat": 4,
 "nbformat_minor": 2
}
